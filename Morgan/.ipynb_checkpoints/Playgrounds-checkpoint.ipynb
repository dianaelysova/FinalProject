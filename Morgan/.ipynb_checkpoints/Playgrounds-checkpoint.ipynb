{
 "cells": [
  {
   "cell_type": "markdown",
   "metadata": {},
   "source": [
    "## Playgrounds by Neighborhood"
   ]
  },
  {
   "cell_type": "markdown",
   "metadata": {},
   "source": [
    "### By Morgan Noonan\n",
    "#### Dataset: [City of Pittsburgh Playgrounds](https://data.wprdc.org/dataset/playgrounds)"
   ]
  },
  {
   "cell_type": "markdown",
   "metadata": {},
   "source": [
    "Loading in the neighborhood data with geopandas."
   ]
  },
  {
   "cell_type": "code",
   "execution_count": 6,
   "metadata": {},
   "outputs": [
    {
     "data": {
      "text/html": [
       "<div>\n",
       "<style scoped>\n",
       "    .dataframe tbody tr th:only-of-type {\n",
       "        vertical-align: middle;\n",
       "    }\n",
       "\n",
       "    .dataframe tbody tr th {\n",
       "        vertical-align: top;\n",
       "    }\n",
       "\n",
       "    .dataframe thead th {\n",
       "        text-align: right;\n",
       "    }\n",
       "</style>\n",
       "<table border=\"1\" class=\"dataframe\">\n",
       "  <thead>\n",
       "    <tr style=\"text-align: right;\">\n",
       "      <th></th>\n",
       "      <th>objectid</th>\n",
       "      <th>fid_blockg</th>\n",
       "      <th>statefp10</th>\n",
       "      <th>countyfp10</th>\n",
       "      <th>tractce10</th>\n",
       "      <th>blkgrpce10</th>\n",
       "      <th>geoid10</th>\n",
       "      <th>namelsad10</th>\n",
       "      <th>mtfcc10</th>\n",
       "      <th>funcstat10</th>\n",
       "      <th>...</th>\n",
       "      <th>shape_ar_1</th>\n",
       "      <th>page_numbe</th>\n",
       "      <th>plannerass</th>\n",
       "      <th>created_us</th>\n",
       "      <th>created_da</th>\n",
       "      <th>last_edite</th>\n",
       "      <th>last_edi_1</th>\n",
       "      <th>Shape__Are</th>\n",
       "      <th>Shape__Len</th>\n",
       "      <th>geometry</th>\n",
       "    </tr>\n",
       "  </thead>\n",
       "  <tbody>\n",
       "    <tr>\n",
       "      <th>0</th>\n",
       "      <td>1</td>\n",
       "      <td>0.0</td>\n",
       "      <td>42</td>\n",
       "      <td>003</td>\n",
       "      <td>040500</td>\n",
       "      <td>1</td>\n",
       "      <td>420030405001</td>\n",
       "      <td>Block Group 1</td>\n",
       "      <td>G5030</td>\n",
       "      <td>S</td>\n",
       "      <td>...</td>\n",
       "      <td>7.843108e+06</td>\n",
       "      <td>15</td>\n",
       "      <td>Derek Dauphin</td>\n",
       "      <td>pgh.admin</td>\n",
       "      <td>2019-10-23T14:17:16.403Z</td>\n",
       "      <td>pgh.admin</td>\n",
       "      <td>2019-10-23T14:17:16.403Z</td>\n",
       "      <td>7.842997e+06</td>\n",
       "      <td>11525.904546</td>\n",
       "      <td>POLYGON ((-79.95304 40.44203, -79.95302 40.442...</td>\n",
       "    </tr>\n",
       "    <tr>\n",
       "      <th>1</th>\n",
       "      <td>2</td>\n",
       "      <td>1.0</td>\n",
       "      <td>42</td>\n",
       "      <td>003</td>\n",
       "      <td>040400</td>\n",
       "      <td>1</td>\n",
       "      <td>420030404001</td>\n",
       "      <td>Block Group 1</td>\n",
       "      <td>G5030</td>\n",
       "      <td>S</td>\n",
       "      <td>...</td>\n",
       "      <td>1.390463e+07</td>\n",
       "      <td>15</td>\n",
       "      <td>Derek Dauphin</td>\n",
       "      <td>pgh.admin</td>\n",
       "      <td>2019-10-23T14:17:16.403Z</td>\n",
       "      <td>pgh.admin</td>\n",
       "      <td>2019-10-23T14:17:16.403Z</td>\n",
       "      <td>1.390469e+07</td>\n",
       "      <td>20945.562570</td>\n",
       "      <td>POLYGON ((-79.95455 40.45882, -79.95427 40.458...</td>\n",
       "    </tr>\n",
       "    <tr>\n",
       "      <th>2</th>\n",
       "      <td>3</td>\n",
       "      <td>2.0</td>\n",
       "      <td>42</td>\n",
       "      <td>003</td>\n",
       "      <td>040200</td>\n",
       "      <td>2</td>\n",
       "      <td>420030402002</td>\n",
       "      <td>Block Group 2</td>\n",
       "      <td>G5030</td>\n",
       "      <td>S</td>\n",
       "      <td>...</td>\n",
       "      <td>5.999801e+06</td>\n",
       "      <td>15</td>\n",
       "      <td>Derek Dauphin</td>\n",
       "      <td>pgh.admin</td>\n",
       "      <td>2019-10-23T14:17:16.403Z</td>\n",
       "      <td>pgh.admin</td>\n",
       "      <td>2019-10-23T14:17:16.403Z</td>\n",
       "      <td>5.998649e+06</td>\n",
       "      <td>18280.484515</td>\n",
       "      <td>POLYGON ((-79.96230 40.44294, -79.96220 40.442...</td>\n",
       "    </tr>\n",
       "  </tbody>\n",
       "</table>\n",
       "<p>3 rows × 38 columns</p>\n",
       "</div>"
      ],
      "text/plain": [
       "   objectid  fid_blockg statefp10 countyfp10 tractce10 blkgrpce10  \\\n",
       "0         1         0.0        42        003    040500          1   \n",
       "1         2         1.0        42        003    040400          1   \n",
       "2         3         2.0        42        003    040200          2   \n",
       "\n",
       "        geoid10     namelsad10 mtfcc10 funcstat10  ...    shape_ar_1  \\\n",
       "0  420030405001  Block Group 1   G5030          S  ...  7.843108e+06   \n",
       "1  420030404001  Block Group 1   G5030          S  ...  1.390463e+07   \n",
       "2  420030402002  Block Group 2   G5030          S  ...  5.999801e+06   \n",
       "\n",
       "   page_numbe     plannerass created_us                created_da  last_edite  \\\n",
       "0          15  Derek Dauphin  pgh.admin  2019-10-23T14:17:16.403Z   pgh.admin   \n",
       "1          15  Derek Dauphin  pgh.admin  2019-10-23T14:17:16.403Z   pgh.admin   \n",
       "2          15  Derek Dauphin  pgh.admin  2019-10-23T14:17:16.403Z   pgh.admin   \n",
       "\n",
       "                 last_edi_1    Shape__Are    Shape__Len  \\\n",
       "0  2019-10-23T14:17:16.403Z  7.842997e+06  11525.904546   \n",
       "1  2019-10-23T14:17:16.403Z  1.390469e+07  20945.562570   \n",
       "2  2019-10-23T14:17:16.403Z  5.998649e+06  18280.484515   \n",
       "\n",
       "                                            geometry  \n",
       "0  POLYGON ((-79.95304 40.44203, -79.95302 40.442...  \n",
       "1  POLYGON ((-79.95455 40.45882, -79.95427 40.458...  \n",
       "2  POLYGON ((-79.96230 40.44294, -79.96220 40.442...  \n",
       "\n",
       "[3 rows x 38 columns]"
      ]
     },
     "execution_count": 6,
     "metadata": {},
     "output_type": "execute_result"
    }
   ],
   "source": [
    "import geopandas \n",
    "%matplotlib inline\n",
    "import pandas as pd\n",
    "from shapely.geometry import Point\n",
    "\n",
    "neighborhoods_data = geopandas.read_file(\"Neighborhoods_.shp\") # read shapefile\n",
    "neighborhoods_data.head(3)"
   ]
  },
  {
   "cell_type": "markdown",
   "metadata": {},
   "source": [
    "Loading in the playground data with geopandas."
   ]
  },
  {
   "cell_type": "code",
   "execution_count": 8,
   "metadata": {
    "collapsed": true,
    "jupyter": {
     "outputs_hidden": true
    }
   },
   "outputs": [
    {
     "data": {
      "text/html": [
       "<div>\n",
       "<style scoped>\n",
       "    .dataframe tbody tr th:only-of-type {\n",
       "        vertical-align: middle;\n",
       "    }\n",
       "\n",
       "    .dataframe tbody tr th {\n",
       "        vertical-align: top;\n",
       "    }\n",
       "\n",
       "    .dataframe thead th {\n",
       "        text-align: right;\n",
       "    }\n",
       "</style>\n",
       "<table border=\"1\" class=\"dataframe\">\n",
       "  <thead>\n",
       "    <tr style=\"text-align: right;\">\n",
       "      <th></th>\n",
       "      <th>id</th>\n",
       "      <th>name</th>\n",
       "      <th>type</th>\n",
       "      <th>maintenance_responsibility</th>\n",
       "      <th>park</th>\n",
       "      <th>street</th>\n",
       "      <th>image</th>\n",
       "      <th>neighborhood</th>\n",
       "      <th>council_district</th>\n",
       "      <th>ward</th>\n",
       "      <th>tract</th>\n",
       "      <th>public_works_division</th>\n",
       "      <th>pli_division</th>\n",
       "      <th>police_zone</th>\n",
       "      <th>fire_zone</th>\n",
       "      <th>latitude</th>\n",
       "      <th>longitude</th>\n",
       "      <th>geometry</th>\n",
       "    </tr>\n",
       "  </thead>\n",
       "  <tbody>\n",
       "    <tr>\n",
       "      <th>0</th>\n",
       "      <td>731501774</td>\n",
       "      <td>Able Long Playground</td>\n",
       "      <td></td>\n",
       "      <td>Parks - Western</td>\n",
       "      <td>Able Long Park</td>\n",
       "      <td>COAST AVE</td>\n",
       "      <td>https://tools.wprdc.org/images/pittsburgh/play...</td>\n",
       "      <td>Beechview</td>\n",
       "      <td>4</td>\n",
       "      <td>19</td>\n",
       "      <td>42003192000</td>\n",
       "      <td>5</td>\n",
       "      <td>19</td>\n",
       "      <td>6</td>\n",
       "      <td>4-28</td>\n",
       "      <td>40.40836491</td>\n",
       "      <td>-80.02844525</td>\n",
       "      <td>None</td>\n",
       "    </tr>\n",
       "    <tr>\n",
       "      <th>1</th>\n",
       "      <td>1461276747</td>\n",
       "      <td>Albert Graham Playground</td>\n",
       "      <td></td>\n",
       "      <td>Parks - Schenley</td>\n",
       "      <td>Albert Turk Graham Park</td>\n",
       "      <td>FORESIDE PL</td>\n",
       "      <td>https://tools.wprdc.org/images/pittsburgh/play...</td>\n",
       "      <td>Crawford-Roberts</td>\n",
       "      <td>6</td>\n",
       "      <td>3</td>\n",
       "      <td>42003030500</td>\n",
       "      <td>3</td>\n",
       "      <td>3</td>\n",
       "      <td>2</td>\n",
       "      <td>2-1</td>\n",
       "      <td>40.44051933</td>\n",
       "      <td>-79.98413678</td>\n",
       "      <td>None</td>\n",
       "    </tr>\n",
       "    <tr>\n",
       "      <th>2</th>\n",
       "      <td>1860709784</td>\n",
       "      <td>Alpine Playground</td>\n",
       "      <td></td>\n",
       "      <td>Parks - Northern</td>\n",
       "      <td>Alpine Gardens Park</td>\n",
       "      <td>ALPINE AVE</td>\n",
       "      <td>https://tools.wprdc.org/images/pittsburgh/play...</td>\n",
       "      <td>Central Northside</td>\n",
       "      <td>6</td>\n",
       "      <td>25</td>\n",
       "      <td>42003250300</td>\n",
       "      <td>1</td>\n",
       "      <td>25</td>\n",
       "      <td>1</td>\n",
       "      <td>1-21</td>\n",
       "      <td>40.45770684</td>\n",
       "      <td>-80.01295165</td>\n",
       "      <td>None</td>\n",
       "    </tr>\n",
       "  </tbody>\n",
       "</table>\n",
       "</div>"
      ],
      "text/plain": [
       "           id                      name type maintenance_responsibility  \\\n",
       "0   731501774      Able Long Playground                 Parks - Western   \n",
       "1  1461276747  Albert Graham Playground                Parks - Schenley   \n",
       "2  1860709784         Alpine Playground                Parks - Northern   \n",
       "\n",
       "                      park       street  \\\n",
       "0           Able Long Park    COAST AVE   \n",
       "1  Albert Turk Graham Park  FORESIDE PL   \n",
       "2      Alpine Gardens Park   ALPINE AVE   \n",
       "\n",
       "                                               image       neighborhood  \\\n",
       "0  https://tools.wprdc.org/images/pittsburgh/play...          Beechview   \n",
       "1  https://tools.wprdc.org/images/pittsburgh/play...   Crawford-Roberts   \n",
       "2  https://tools.wprdc.org/images/pittsburgh/play...  Central Northside   \n",
       "\n",
       "  council_district ward        tract public_works_division pli_division  \\\n",
       "0                4   19  42003192000                     5           19   \n",
       "1                6    3  42003030500                     3            3   \n",
       "2                6   25  42003250300                     1           25   \n",
       "\n",
       "  police_zone fire_zone     latitude     longitude geometry  \n",
       "0           6      4-28  40.40836491  -80.02844525     None  \n",
       "1           2       2-1  40.44051933  -79.98413678     None  \n",
       "2           1      1-21  40.45770684  -80.01295165     None  "
      ]
     },
     "execution_count": 8,
     "metadata": {},
     "output_type": "execute_result"
    }
   ],
   "source": [
    "# Load playgrounds\n",
    "playgrounds = geopandas.read_file('playgrounds1.csv')\n",
    "playgrounds.head(3)"
   ]
  },
  {
   "cell_type": "markdown",
   "metadata": {},
   "source": [
    "Filtering data to just the neighborhood, a playground counter, and its geometry."
   ]
  },
  {
   "cell_type": "code",
   "execution_count": 9,
   "metadata": {},
   "outputs": [
    {
     "data": {
      "text/html": [
       "<div>\n",
       "<style scoped>\n",
       "    .dataframe tbody tr th:only-of-type {\n",
       "        vertical-align: middle;\n",
       "    }\n",
       "\n",
       "    .dataframe tbody tr th {\n",
       "        vertical-align: top;\n",
       "    }\n",
       "\n",
       "    .dataframe thead th {\n",
       "        text-align: right;\n",
       "    }\n",
       "</style>\n",
       "<table border=\"1\" class=\"dataframe\">\n",
       "  <thead>\n",
       "    <tr style=\"text-align: right;\">\n",
       "      <th></th>\n",
       "      <th>Neighborhood</th>\n",
       "      <th>playgrounds</th>\n",
       "      <th>Geometry</th>\n",
       "    </tr>\n",
       "  </thead>\n",
       "  <tbody>\n",
       "    <tr>\n",
       "      <th>0</th>\n",
       "      <td>Central Oakland</td>\n",
       "      <td>0</td>\n",
       "      <td>POLYGON ((-79.95304 40.44203, -79.95302 40.442...</td>\n",
       "    </tr>\n",
       "    <tr>\n",
       "      <th>1</th>\n",
       "      <td>North Oakland</td>\n",
       "      <td>0</td>\n",
       "      <td>POLYGON ((-79.95455 40.45882, -79.95427 40.458...</td>\n",
       "    </tr>\n",
       "    <tr>\n",
       "      <th>2</th>\n",
       "      <td>West Oakland</td>\n",
       "      <td>0</td>\n",
       "      <td>POLYGON ((-79.96230 40.44294, -79.96220 40.442...</td>\n",
       "    </tr>\n",
       "  </tbody>\n",
       "</table>\n",
       "</div>"
      ],
      "text/plain": [
       "      Neighborhood  playgrounds  \\\n",
       "0  Central Oakland            0   \n",
       "1    North Oakland            0   \n",
       "2     West Oakland            0   \n",
       "\n",
       "                                            Geometry  \n",
       "0  POLYGON ((-79.95304 40.44203, -79.95302 40.442...  \n",
       "1  POLYGON ((-79.95455 40.45882, -79.95427 40.458...  \n",
       "2  POLYGON ((-79.96230 40.44294, -79.96220 40.442...  "
      ]
     },
     "execution_count": 9,
     "metadata": {},
     "output_type": "execute_result"
    }
   ],
   "source": [
    "neighborhoods = pd.DataFrame(columns = [\"Neighborhood\", \"playgrounds\", \"Geometry\"])\n",
    "neighborhoods[\"Neighborhood\"] = neighborhoods_data[\"hood\"]\n",
    "neighborhoods[\"playgrounds\"] = 0\n",
    "neighborhoods[\"Geometry\"] = neighborhoods_data[\"geometry\"]\n",
    "\n",
    "neighborhoods.head(3)"
   ]
  },
  {
   "cell_type": "markdown",
   "metadata": {},
   "source": [
    "Adding to the number of playgrounds per neighborhood."
   ]
  },
  {
   "cell_type": "code",
   "execution_count": 10,
   "metadata": {},
   "outputs": [
    {
     "data": {
      "text/html": [
       "<div>\n",
       "<style scoped>\n",
       "    .dataframe tbody tr th:only-of-type {\n",
       "        vertical-align: middle;\n",
       "    }\n",
       "\n",
       "    .dataframe tbody tr th {\n",
       "        vertical-align: top;\n",
       "    }\n",
       "\n",
       "    .dataframe thead th {\n",
       "        text-align: right;\n",
       "    }\n",
       "</style>\n",
       "<table border=\"1\" class=\"dataframe\">\n",
       "  <thead>\n",
       "    <tr style=\"text-align: right;\">\n",
       "      <th></th>\n",
       "      <th>Neighborhood</th>\n",
       "      <th>playgrounds</th>\n",
       "      <th>Geometry</th>\n",
       "    </tr>\n",
       "  </thead>\n",
       "  <tbody>\n",
       "    <tr>\n",
       "      <th>0</th>\n",
       "      <td>Central Oakland</td>\n",
       "      <td>1</td>\n",
       "      <td>POLYGON ((-79.95304 40.44203, -79.95302 40.442...</td>\n",
       "    </tr>\n",
       "    <tr>\n",
       "      <th>1</th>\n",
       "      <td>North Oakland</td>\n",
       "      <td>0</td>\n",
       "      <td>POLYGON ((-79.95455 40.45882, -79.95427 40.458...</td>\n",
       "    </tr>\n",
       "    <tr>\n",
       "      <th>2</th>\n",
       "      <td>West Oakland</td>\n",
       "      <td>1</td>\n",
       "      <td>POLYGON ((-79.96230 40.44294, -79.96220 40.442...</td>\n",
       "    </tr>\n",
       "    <tr>\n",
       "      <th>3</th>\n",
       "      <td>Crawford-Roberts</td>\n",
       "      <td>3</td>\n",
       "      <td>POLYGON ((-79.98275 40.44641, -79.98273 40.446...</td>\n",
       "    </tr>\n",
       "    <tr>\n",
       "      <th>4</th>\n",
       "      <td>Strip District</td>\n",
       "      <td>1</td>\n",
       "      <td>POLYGON ((-79.97494 40.45629, -79.97484 40.456...</td>\n",
       "    </tr>\n",
       "  </tbody>\n",
       "</table>\n",
       "</div>"
      ],
      "text/plain": [
       "       Neighborhood  playgrounds  \\\n",
       "0   Central Oakland            1   \n",
       "1     North Oakland            0   \n",
       "2      West Oakland            1   \n",
       "3  Crawford-Roberts            3   \n",
       "4    Strip District            1   \n",
       "\n",
       "                                            Geometry  \n",
       "0  POLYGON ((-79.95304 40.44203, -79.95302 40.442...  \n",
       "1  POLYGON ((-79.95455 40.45882, -79.95427 40.458...  \n",
       "2  POLYGON ((-79.96230 40.44294, -79.96220 40.442...  \n",
       "3  POLYGON ((-79.98275 40.44641, -79.98273 40.446...  \n",
       "4  POLYGON ((-79.97494 40.45629, -79.97484 40.456...  "
      ]
     },
     "execution_count": 10,
     "metadata": {},
     "output_type": "execute_result"
    }
   ],
   "source": [
    "from shapely.geometry import Point\n",
    "\n",
    "for i, play in playgrounds.iterrows():\n",
    "    # point by latitude and longitude, check if in neighborhood geometry\n",
    "    pt = Point(float(play[\"longitude\"]), float(play[\"latitude\"]))\n",
    "    for j, neighborhood in neighborhoods.iterrows():\n",
    "        if neighborhood[\"Geometry\"].contains(pt):\n",
    "            neighborhoods.at[j, 'playgrounds'] = neighborhood[\"playgrounds\"] + 1\n",
    "            \n",
    "            break\n",
    "\n",
    "neighborhoods.head(5)"
   ]
  },
  {
   "cell_type": "markdown",
   "metadata": {},
   "source": [
    "Showing first 10 neighborhoods with highest playground count in descedning order."
   ]
  },
  {
   "cell_type": "code",
   "execution_count": 11,
   "metadata": {},
   "outputs": [
    {
     "data": {
      "text/html": [
       "<div>\n",
       "<style scoped>\n",
       "    .dataframe tbody tr th:only-of-type {\n",
       "        vertical-align: middle;\n",
       "    }\n",
       "\n",
       "    .dataframe tbody tr th {\n",
       "        vertical-align: top;\n",
       "    }\n",
       "\n",
       "    .dataframe thead th {\n",
       "        text-align: right;\n",
       "    }\n",
       "</style>\n",
       "<table border=\"1\" class=\"dataframe\">\n",
       "  <thead>\n",
       "    <tr style=\"text-align: right;\">\n",
       "      <th></th>\n",
       "      <th>Neighborhood</th>\n",
       "      <th>playgrounds</th>\n",
       "      <th>Geometry</th>\n",
       "    </tr>\n",
       "  </thead>\n",
       "  <tbody>\n",
       "    <tr>\n",
       "      <th>24</th>\n",
       "      <td>Squirrel Hill South</td>\n",
       "      <td>8</td>\n",
       "      <td>POLYGON ((-79.94475 40.44101, -79.94405 40.440...</td>\n",
       "    </tr>\n",
       "    <tr>\n",
       "      <th>15</th>\n",
       "      <td>South Side Slopes</td>\n",
       "      <td>5</td>\n",
       "      <td>POLYGON ((-79.99713 40.42920, -79.99547 40.428...</td>\n",
       "    </tr>\n",
       "    <tr>\n",
       "      <th>40</th>\n",
       "      <td>Beechview</td>\n",
       "      <td>5</td>\n",
       "      <td>POLYGON ((-80.02121 40.42342, -80.02111 40.423...</td>\n",
       "    </tr>\n",
       "    <tr>\n",
       "      <th>58</th>\n",
       "      <td>Allegheny Center</td>\n",
       "      <td>4</td>\n",
       "      <td>POLYGON ((-80.00149 40.45270, -80.00146 40.452...</td>\n",
       "    </tr>\n",
       "    <tr>\n",
       "      <th>36</th>\n",
       "      <td>Highland Park</td>\n",
       "      <td>4</td>\n",
       "      <td>POLYGON ((-79.91356 40.48644, -79.91354 40.486...</td>\n",
       "    </tr>\n",
       "    <tr>\n",
       "      <th>52</th>\n",
       "      <td>Sheraden</td>\n",
       "      <td>4</td>\n",
       "      <td>POLYGON ((-80.05705 40.46059, -80.05698 40.460...</td>\n",
       "    </tr>\n",
       "    <tr>\n",
       "      <th>11</th>\n",
       "      <td>Beltzhoover</td>\n",
       "      <td>4</td>\n",
       "      <td>POLYGON ((-79.99887 40.42174, -79.99853 40.421...</td>\n",
       "    </tr>\n",
       "    <tr>\n",
       "      <th>39</th>\n",
       "      <td>Upper Lawrenceville</td>\n",
       "      <td>3</td>\n",
       "      <td>POLYGON ((-79.93866 40.48790, -79.93917 40.487...</td>\n",
       "    </tr>\n",
       "    <tr>\n",
       "      <th>32</th>\n",
       "      <td>Carrick</td>\n",
       "      <td>3</td>\n",
       "      <td>POLYGON ((-79.99194 40.40719, -79.99191 40.407...</td>\n",
       "    </tr>\n",
       "    <tr>\n",
       "      <th>22</th>\n",
       "      <td>Mount Washington</td>\n",
       "      <td>3</td>\n",
       "      <td>POLYGON ((-80.00386 40.43102, -80.00357 40.430...</td>\n",
       "    </tr>\n",
       "  </tbody>\n",
       "</table>\n",
       "</div>"
      ],
      "text/plain": [
       "           Neighborhood  playgrounds  \\\n",
       "24  Squirrel Hill South            8   \n",
       "15    South Side Slopes            5   \n",
       "40            Beechview            5   \n",
       "58     Allegheny Center            4   \n",
       "36        Highland Park            4   \n",
       "52             Sheraden            4   \n",
       "11          Beltzhoover            4   \n",
       "39  Upper Lawrenceville            3   \n",
       "32              Carrick            3   \n",
       "22     Mount Washington            3   \n",
       "\n",
       "                                             Geometry  \n",
       "24  POLYGON ((-79.94475 40.44101, -79.94405 40.440...  \n",
       "15  POLYGON ((-79.99713 40.42920, -79.99547 40.428...  \n",
       "40  POLYGON ((-80.02121 40.42342, -80.02111 40.423...  \n",
       "58  POLYGON ((-80.00149 40.45270, -80.00146 40.452...  \n",
       "36  POLYGON ((-79.91356 40.48644, -79.91354 40.486...  \n",
       "52  POLYGON ((-80.05705 40.46059, -80.05698 40.460...  \n",
       "11  POLYGON ((-79.99887 40.42174, -79.99853 40.421...  \n",
       "39  POLYGON ((-79.93866 40.48790, -79.93917 40.487...  \n",
       "32  POLYGON ((-79.99194 40.40719, -79.99191 40.407...  \n",
       "22  POLYGON ((-80.00386 40.43102, -80.00357 40.430...  "
      ]
     },
     "execution_count": 11,
     "metadata": {},
     "output_type": "execute_result"
    }
   ],
   "source": [
    "neighborhoods_sorted = neighborhoods.sort_values(\"playgrounds\", ascending=False)\n",
    "\n",
    "neighborhoods_sorted.head(10)"
   ]
  },
  {
   "cell_type": "markdown",
   "metadata": {},
   "source": [
    "Showing first ten sorted in descending order on bar graph."
   ]
  },
  {
   "cell_type": "code",
   "execution_count": 12,
   "metadata": {},
   "outputs": [
    {
     "data": {
      "image/png": "[encoded data removed]",
      "text/plain": [
       "<Figure size 432x288 with 1 Axes>"
      ]
     },
     "metadata": {
      "needs_background": "light"
     },
     "output_type": "display_data"
    }
   ],
   "source": [
    "plt = neighborhoods_sorted.iloc[:30].plot(kind='bar', x=\"Neighborhood\", y=\"playgrounds\", title=\"Playgrounds by Neighborhood\")\n"
   ]
  },
  {
   "cell_type": "markdown",
   "metadata": {},
   "source": [
    "Showing last 30 in ascending order."
   ]
  },
  {
   "cell_type": "code",
   "execution_count": 13,
   "metadata": {},
   "outputs": [
    {
     "data": {
      "image/png": "[encoded data removed]",
      "text/plain": [
       "<Figure size 432x288 with 1 Axes>"
      ]
     },
     "metadata": {
      "needs_background": "light"
     },
     "output_type": "display_data"
    }
   ],
   "source": [
    "neighborhoods_asc = neighborhoods.sort_values(\"playgrounds\")\n",
    "plt2 = neighborhoods_asc.iloc[:30].plot(kind='bar', x=\"Neighborhood\", y=\"playgrounds\", title=\"Playgrounds by Neighborhood\")"
   ]
  },
  {
   "cell_type": "markdown",
   "metadata": {},
   "source": [
    "Showing data on map of pittsburgh colored by neighborhood with most neighborhoods (yellow), to least (dark purple)."
   ]
  },
  {
   "cell_type": "code",
   "execution_count": 14,
   "metadata": {},
   "outputs": [
    {
     "data": {
      "text/plain": [
       "<matplotlib.axes._subplots.AxesSubplot at 0x7febcba468e0>"
      ]
     },
     "execution_count": 14,
     "metadata": {},
     "output_type": "execute_result"
    },
    {
     "data": {
      "image/png": "[encoded data removed]",
      "text/plain": [
       "<Figure size 432x288 with 2 Axes>"
      ]
     },
     "metadata": {
      "needs_background": "light"
     },
     "output_type": "display_data"
    }
   ],
   "source": [
    "neighborhoods_data[\"playgrounds\"] = neighborhoods[\"playgrounds\"]\n",
    "\n",
    "neighborhoods_data.plot(column=\"playgrounds\", legend=True)"
   ]
  },
  {
   "cell_type": "markdown",
   "metadata": {},
   "source": [
    "End of analysis of playgrounds per neighborhood."
   ]
  },
  {
   "cell_type": "code",
   "execution_count": null,
   "metadata": {},
   "outputs": [],
   "source": []
  }
 ],
 "metadata": {
  "kernelspec": {
   "display_name": "Python 3",
   "language": "python",
   "name": "python3"
  },
  "language_info": {
   "codemirror_mode": {
    "name": "ipython",
    "version": 3
   },
   "file_extension": ".py",
   "mimetype": "text/x-python",
   "name": "python",
   "nbconvert_exporter": "python",
   "pygments_lexer": "ipython3",
   "version": "3.8.3"
  }
 },
 "nbformat": 4,
 "nbformat_minor": 4
}
