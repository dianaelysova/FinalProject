{
 "cells": [
  {
   "cell_type": "markdown",
   "metadata": {},
   "source": [
    "**Introduction: Introduce the project, your approach, talk about the process of how you came up with the metric and some alternatives you may have explored.**\n",
    "\n",
    "Our metric to determine the best neighborhood in Pittsburgh is how many public spaces there are in each neighborhood, we are examining data about public art, playgrounds, and parks. We decided on this metric due to the high cost of living. We all believe that the public should have spaces where they and their children could experience enriching and fulfilling experiences for free.\n",
    "\n",
    "**The Metric: Describe your metric, what features are you measuring. What datasets are you using?**\n",
    "\n",
    "My part of the project is code determining which neighborhood in Pittsburgh has the most parks. To do this, I am going to be using the following data set:\n",
    "https://data.wprdc.org/dataset/parks . My conclusion will later be cross referenced with the conclusions of my group members based on the outcomes of their data, and then we will combine all of them together to see which neighborhood is the best one.\n",
    "\n",
    "**The Best Neighborhood: Apply the metric from the previous section to determine the best neighborhood in Pittsburgh. Beyond just executing code, provide a narrative about why you think this is the best neighborhood. Incorporate a data visualization, perhaps to rank all of the neighborhoods or show a neighborhood’s best-ness over time. The key is to make a data driven argument.**\n",
    "\n",
    "Based on my data, the best neighborhood in Pittsburgh is East Liberty with 12 parks. This is significantly more than other neighborhoods. I provided a bar graph as well as a pie chart to show just how many more parks East Liberty has- most neighborhoods only have one.\n",
    "\n",
    "\n",
    "**Conclusion: Reflect on how the data driven determination of “best neighborhood” is the same or different from your personal favorite neighborhood. Each member of the group should write their own response to this.**\n",
    "\n",
    "My personal favorite neighborhood in Pittsburgh is Squirrel Hill because I think the architecture is the nicest and it has the best cafes. However, this is personal preference and can not be backed up by or attributed to any data. The purpose of this assignment was to create a data driven conclusion of the best neighborhood. Physical attractions, such as parks, can easily be measured and a conclusion can be made."
   ]
  },
  {
   "cell_type": "code",
   "execution_count": null,
   "metadata": {},
   "outputs": [],
   "source": []
  }
 ],
 "metadata": {
  "kernelspec": {
   "display_name": "Python 3",
   "language": "python",
   "name": "python3"
  },
  "language_info": {
   "codemirror_mode": {
    "name": "ipython",
    "version": 3
   },
   "file_extension": ".py",
   "mimetype": "text/x-python",
   "name": "python",
   "nbconvert_exporter": "python",
   "pygments_lexer": "ipython3",
   "version": "3.8.3"
  }
 },
 "nbformat": 4,
 "nbformat_minor": 4
}
