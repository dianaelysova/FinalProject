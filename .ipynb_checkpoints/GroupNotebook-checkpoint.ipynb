{
 "cells": [
  {
   "cell_type": "markdown",
   "metadata": {},
   "source": [
    "**Introduction**: Introduce the project, your approach, talk about the process of how you came up with the metric and some alternatives you may have explored.\n",
    "\n",
    "The goal of our project was to find the best neighborhood in Pittsbugh based on how many free public things it had in it. Our three data sets were ones that measured how many parks, playgrounds, and public art exhibitions were in each neighborhood. The link to these data sets can be found in the README in our GitHub. We came up with this metric by thinking about our own particular preferences- we agreed that we wanted to be able to see public art, have the ability to have a picnic in the park, and take our younger siblings to the playground in our ideal neighborhood. The neighborhoods we grew up in generally did have all three of these things, so in choosing this data set we were also challenging ourselves to think about what growing up without these things may have been like. Since we were all quite excited about this idea and this metric, we did not explore any alternatives.\n",
    "\n",
    "**The Metric:** Describe your metric, what features are you measuring. What datasets are you using?\n",
    "\n",
    "The metric and what we are measuring are both pretty straightforward- each member of the group will measure how many parks, playground, or public art exhibitions there are in every neighborhood in Pittsburgh. The \"best\" neighborhood that each person finds will be compared with the findings of the other group members, whereupon we will come to a conclusion. The link to these data sets can be found in the README in our GitHub.\n",
    "\n",
    "\n",
    "**The Best Neighborhood:** Apply the metric from the previous section to determine the best neighborhood in Pittsburgh. Beyond just executing code, provide a narrative about why you think this is the best neighborhood. Incorporate a data visualization, perhaps to rank all of the neighborhoods or show a neighborhood’s best-ness over time. The key is to make a data driven argument.\n",
    "\n",
    "Through our data, we determined that the best neighborhood was Beechview. Although it was not the number one best neighborhood that any of us got, it was the best based on the metric. What we did not consider was that some neighborhoods may have a lot more parks than others, but no public art exhibitions, for example. We went into this project assuming (or hoping) that there might be a neighborhood in Pittsburgh that had the most parks, playgrounds, and public art exhibitions. The top 3 neighborhoods for each category were as follows: \n",
    "\n",
    "Parks: 1. East Liberty 2. Central Business District 3. Beechview\n",
    "Playgrounds: 1. Squirrel Hill South 2. South Side Slopes 3. Beechview\n",
    "Public Art Exhibitions: 1. Central Business District 2. Squirrel Hill South 3. Allegheny Center\n",
    "\n",
    "As seen here (and as can be seen more in depth in our individual notebooks), Beechview was in the Parks and Playrgounds top three neighborhoods. It was in the Public Art Exhibitions top five. Through this, we determined that the best neighborhood was Beechview.\n",
    "\n",
    "**Conclusion:** Reflect on how the data driven determination of “best neighborhood” is the same or different from your personal favorite neighborhood. Each member of the group should write their own response to this.\n",
    "\n",
    "Diana: My personal favorite neighborhood in Pittsburgh is Squirrel Hill because I think the architecture is the nicest and it has the best cafes. However, this is personal preference and can not be backed up by or attributed to any data. The purpose of this assignment was to create a data driven conclusion of the best neighborhood. Physical attractions, such as parks, can easily be measured and a conclusion can be made."
   ]
  }
 ],
 "metadata": {
  "kernelspec": {
   "display_name": "Python 3",
   "language": "python",
   "name": "python3"
  },
  "language_info": {
   "codemirror_mode": {
    "name": "ipython",
    "version": 3
   },
   "file_extension": ".py",
   "mimetype": "text/x-python",
   "name": "python",
   "nbconvert_exporter": "python",
   "pygments_lexer": "ipython3",
   "version": "3.8.3"
  }
 },
 "nbformat": 4,
 "nbformat_minor": 4
}
